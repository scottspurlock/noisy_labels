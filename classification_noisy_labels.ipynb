{
  "nbformat": 4,
  "nbformat_minor": 0,
  "metadata": {
    "colab": {
      "name": "classification_noisy_labels.ipynb",
      "provenance": [],
      "collapsed_sections": [],
      "toc_visible": true,
      "include_colab_link": true
    },
    "kernelspec": {
      "name": "python3",
      "display_name": "Python 3"
    },
    "accelerator": "GPU"
  },
  "cells": [
    {
      "cell_type": "markdown",
      "metadata": {
        "id": "view-in-github",
        "colab_type": "text"
      },
      "source": [
        "<a href=\"https://colab.research.google.com/github/scottspurlock/noisy_labels/blob/main/classification_noisy_labels.ipynb\" target=\"_parent\"><img src=\"https://colab.research.google.com/assets/colab-badge.svg\" alt=\"Open In Colab\"/></a>"
      ]
    },
    {
      "cell_type": "markdown",
      "metadata": {
        "id": "bS9DnITk7eDv"
      },
      "source": [
        "# Classification with noisy labels\n",
        "## Scott Spurlock\n",
        "### Created: 12-17-2020\n"
      ]
    },
    {
      "cell_type": "code",
      "metadata": {
        "id": "L1KZzjnmufqU"
      },
      "source": [
        "import numpy as np\n",
        "import matplotlib.pyplot as plt\n",
        "from sklearn.metrics import confusion_matrix\n",
        "import seaborn as sns\n",
        "\n",
        "import tensorflow as tf\n",
        "from tensorflow import keras\n",
        "from tensorflow.keras import layers\n"
      ],
      "execution_count": 1,
      "outputs": []
    },
    {
      "cell_type": "code",
      "metadata": {
        "colab": {
          "base_uri": "https://localhost:8080/"
        },
        "id": "Q6MIUXuMJdDn",
        "outputId": "8a364f89-4d96-4fed-d1ff-ea0db9fece02"
      },
      "source": [
        "from google.colab import drive\n",
        "drive.mount('/content/drive')"
      ],
      "execution_count": 2,
      "outputs": [
        {
          "output_type": "stream",
          "text": [
            "Drive already mounted at /content/drive; to attempt to forcibly remount, call drive.mount(\"/content/drive\", force_remount=True).\n"
          ],
          "name": "stdout"
        }
      ]
    },
    {
      "cell_type": "code",
      "metadata": {
        "colab": {
          "base_uri": "https://localhost:8080/"
        },
        "id": "wrOoH0d8fbd2",
        "outputId": "7a3cf9e5-38de-4109-df09-b5d1d722bbb1"
      },
      "source": [
        "import os \n",
        "root_dir = \"/content/drive/My Drive/Research/deepfakes/\"\n",
        "os.chdir(root_dir)\n",
        "\n",
        "!pwd"
      ],
      "execution_count": 3,
      "outputs": [
        {
          "output_type": "stream",
          "text": [
            "/content/drive/My Drive/Research/deepfakes\n"
          ],
          "name": "stdout"
        }
      ]
    },
    {
      "cell_type": "code",
      "metadata": {
        "colab": {
          "base_uri": "https://localhost:8080/"
        },
        "id": "cOT7fo9KflXP",
        "outputId": "90747139-6311-4db4-8ca6-a073c2882e08"
      },
      "source": [
        "!ls"
      ],
      "execution_count": 4,
      "outputs": [
        {
          "output_type": "stream",
          "text": [
            "classification_noisy_labels.ipynb  papers  saved_model\tscratch.py\n"
          ],
          "name": "stdout"
        }
      ]
    },
    {
      "cell_type": "code",
      "metadata": {
        "id": "_krn_WLIuuBZ"
      },
      "source": [
        "num_classes = 10\n",
        "input_shape = (28, 28, 1)\n",
        "\n",
        "# the data, split between train and test sets\n",
        "(x_train, y_train), (x_test, y_test) = keras.datasets.mnist.load_data()\n",
        "\n",
        "# Shuffle\n",
        "# from sklearn.utils import shuffle\n",
        "# x_train, y_train = shuffle(x_train, y_train, random_state=0)\n",
        "# print(x_train.shape)\n",
        "# rp = np.random.permutation(len(x_train))\n"
      ],
      "execution_count": 5,
      "outputs": []
    },
    {
      "cell_type": "markdown",
      "metadata": {
        "id": "8hZXrY3_7Wyx"
      },
      "source": [
        "## Keep only two classes for binary classification"
      ]
    },
    {
      "cell_type": "code",
      "metadata": {
        "id": "jJ2keZUtEPY_"
      },
      "source": [
        "# Only keep 2 classes\n",
        "mask1 = y_train != 1\n",
        "mask2 = y_train == 1\n",
        "mask = mask1 | mask2\n",
        "y_train[mask1] = 0\n",
        "y_train[mask2] = 1\n",
        "y_train = y_train[mask]\n",
        "x_train = x_train[mask]\n",
        "\n",
        "mask1 = y_test != 1\n",
        "mask2 = y_test == 1\n",
        "mask = mask1 | mask2\n",
        "y_test[mask1] = 0\n",
        "y_test[mask2] = 1\n",
        "y_test = y_test[mask]\n",
        "x_test = x_test[mask]\n",
        "\n",
        "u = np.unique(y_train)\n",
        "num_classes = len(u)\n"
      ],
      "execution_count": 6,
      "outputs": []
    },
    {
      "cell_type": "code",
      "metadata": {
        "colab": {
          "base_uri": "https://localhost:8080/"
        },
        "id": "iDOnV23wRcnG",
        "outputId": "108e0c3b-3df5-4061-a78e-782c634cd2a7"
      },
      "source": [
        "y_train.shape"
      ],
      "execution_count": 7,
      "outputs": [
        {
          "output_type": "execute_result",
          "data": {
            "text/plain": [
              "(60000,)"
            ]
          },
          "metadata": {
            "tags": []
          },
          "execution_count": 7
        }
      ]
    },
    {
      "cell_type": "code",
      "metadata": {
        "colab": {
          "base_uri": "https://localhost:8080/"
        },
        "id": "SzayAipgzQDe",
        "outputId": "17ca3ad6-f758-407b-f814-cd12de2c4e11"
      },
      "source": [
        "\n",
        "# Scale images to the [0, 1] range\n",
        "x_train = x_train.astype(\"float32\") / 255\n",
        "x_test = x_test.astype(\"float32\") / 255\n",
        "# Make sure images have shape (28, 28, 1)\n",
        "x_train = np.expand_dims(x_train, -1)\n",
        "x_test = np.expand_dims(x_test, -1)\n",
        "print(\"x_train shape:\", x_train.shape)\n",
        "print(x_train.shape[0], \"train samples\")\n",
        "print(x_test.shape[0], \"test samples\")\n",
        "\n"
      ],
      "execution_count": 8,
      "outputs": [
        {
          "output_type": "stream",
          "text": [
            "x_train shape: (60000, 28, 28, 1)\n",
            "60000 train samples\n",
            "10000 test samples\n"
          ],
          "name": "stdout"
        }
      ]
    },
    {
      "cell_type": "code",
      "metadata": {
        "colab": {
          "base_uri": "https://localhost:8080/"
        },
        "id": "CM1ZNvCgxU-U",
        "outputId": "f9671c19-041d-43fd-ba0e-37c0e2bda73a"
      },
      "source": [
        "# Subsample data\n",
        "keep_frac = 1\n",
        "n = int(len(x_train) * keep_frac)\n",
        "x_train = x_train[:n]\n",
        "y_train = y_train[:n]\n",
        "\n",
        "print(y_train.shape)\n",
        "print(x_train.shape)"
      ],
      "execution_count": 9,
      "outputs": [
        {
          "output_type": "stream",
          "text": [
            "(60000,)\n",
            "(60000, 28, 28, 1)\n"
          ],
          "name": "stdout"
        }
      ]
    },
    {
      "cell_type": "markdown",
      "metadata": {
        "id": "kPmZRLuy7JOJ"
      },
      "source": [
        "## Change labels\n",
        "Change a fraction of the labels from class 0 to class 1."
      ]
    },
    {
      "cell_type": "code",
      "metadata": {
        "id": "FZohvSUv-IcT"
      },
      "source": [
        "# Corrupt labels\n",
        "change_frac = 0.5\n",
        "# m = int(n * change_frac)\n",
        "# rp = np.random.permutation(n)[:m]\n",
        "# new_labels = np.random.randint(0, num_classes, m)\n",
        "# y_train[rp] = new_labels\n",
        "# print(y_train.shape)\n",
        "\n",
        "# Randomly switch some negative examples to be positive\n",
        "for i in range(len(y_train)):\n",
        "  if (y_train[i] == 0 and np.random.random() < change_frac):\n",
        "    y_train[i] = 1\n"
      ],
      "execution_count": 10,
      "outputs": []
    },
    {
      "cell_type": "code",
      "metadata": {
        "colab": {
          "base_uri": "https://localhost:8080/"
        },
        "id": "VPDw5XT6BSys",
        "outputId": "078c7801-9c37-48d5-9681-f1d5e7ae9a3b"
      },
      "source": [
        "# convert class vectors to binary class matrices\n",
        "y_train = keras.utils.to_categorical(y_train, num_classes)\n",
        "y_test = keras.utils.to_categorical(y_test, num_classes)\n",
        "\n",
        "print(x_train.shape)\n",
        "print(y_train.shape)\n"
      ],
      "execution_count": 11,
      "outputs": [
        {
          "output_type": "stream",
          "text": [
            "(60000, 28, 28, 1)\n",
            "(60000, 2)\n"
          ],
          "name": "stdout"
        }
      ]
    },
    {
      "cell_type": "markdown",
      "metadata": {
        "id": "6iGRMn3m7EIm"
      },
      "source": [
        "## Baseline model"
      ]
    },
    {
      "cell_type": "code",
      "metadata": {
        "colab": {
          "base_uri": "https://localhost:8080/"
        },
        "id": "1xpIVaWsvHeV",
        "outputId": "9e7e156b-750d-4cdd-bc1c-5e0eb80900cb"
      },
      "source": [
        "model = keras.Sequential(\n",
        "    [\n",
        "        keras.Input(shape=input_shape),\n",
        "        layers.Conv2D(32, kernel_size=(3, 3), activation=\"relu\"),\n",
        "        layers.MaxPooling2D(pool_size=(2, 2)),\n",
        "        layers.Conv2D(64, kernel_size=(3, 3), activation=\"relu\"),\n",
        "        layers.MaxPooling2D(pool_size=(2, 2)),\n",
        "        layers.Flatten(),\n",
        "        layers.Dropout(0.5),\n",
        "        layers.Dense(num_classes, activation=\"softmax\"),\n",
        "    ]\n",
        ")\n",
        "\n",
        "model.summary()\n"
      ],
      "execution_count": 12,
      "outputs": [
        {
          "output_type": "stream",
          "text": [
            "Model: \"sequential\"\n",
            "_________________________________________________________________\n",
            "Layer (type)                 Output Shape              Param #   \n",
            "=================================================================\n",
            "conv2d (Conv2D)              (None, 26, 26, 32)        320       \n",
            "_________________________________________________________________\n",
            "max_pooling2d (MaxPooling2D) (None, 13, 13, 32)        0         \n",
            "_________________________________________________________________\n",
            "conv2d_1 (Conv2D)            (None, 11, 11, 64)        18496     \n",
            "_________________________________________________________________\n",
            "max_pooling2d_1 (MaxPooling2 (None, 5, 5, 64)          0         \n",
            "_________________________________________________________________\n",
            "flatten (Flatten)            (None, 1600)              0         \n",
            "_________________________________________________________________\n",
            "dropout (Dropout)            (None, 1600)              0         \n",
            "_________________________________________________________________\n",
            "dense (Dense)                (None, 2)                 3202      \n",
            "=================================================================\n",
            "Total params: 22,018\n",
            "Trainable params: 22,018\n",
            "Non-trainable params: 0\n",
            "_________________________________________________________________\n"
          ],
          "name": "stdout"
        }
      ]
    },
    {
      "cell_type": "markdown",
      "metadata": {
        "id": "ON7Z9me67z9e"
      },
      "source": [
        "## TODO: keep a validation set that isn't corrupted."
      ]
    },
    {
      "cell_type": "code",
      "metadata": {
        "colab": {
          "base_uri": "https://localhost:8080/"
        },
        "id": "aeKqh2-LvMUw",
        "outputId": "756913b7-1e67-499b-d2d6-ce3f776e5019"
      },
      "source": [
        "batch_size = 128\n",
        "epochs = 5\n",
        "\n",
        "model.compile(loss=\"categorical_crossentropy\", optimizer=\"adam\", metrics=[\"accuracy\"])\n",
        "\n",
        "hist = model.fit(x_train, y_train, batch_size=batch_size, epochs=epochs, validation_split=0.1)\n"
      ],
      "execution_count": 13,
      "outputs": [
        {
          "output_type": "stream",
          "text": [
            "Epoch 1/5\n",
            "422/422 [==============================] - 4s 6ms/step - loss: 0.6608 - accuracy: 0.5556 - val_loss: 0.6412 - val_accuracy: 0.5540\n",
            "Epoch 2/5\n",
            "422/422 [==============================] - 2s 4ms/step - loss: 0.6364 - accuracy: 0.5570 - val_loss: 0.6341 - val_accuracy: 0.5483\n",
            "Epoch 3/5\n",
            "422/422 [==============================] - 2s 4ms/step - loss: 0.6306 - accuracy: 0.5617 - val_loss: 0.6336 - val_accuracy: 0.5522\n",
            "Epoch 4/5\n",
            "422/422 [==============================] - 2s 5ms/step - loss: 0.6286 - accuracy: 0.5666 - val_loss: 0.6324 - val_accuracy: 0.5467\n",
            "Epoch 5/5\n",
            "422/422 [==============================] - 2s 5ms/step - loss: 0.6265 - accuracy: 0.5673 - val_loss: 0.6300 - val_accuracy: 0.5577\n"
          ],
          "name": "stdout"
        }
      ]
    },
    {
      "cell_type": "code",
      "metadata": {
        "colab": {
          "base_uri": "https://localhost:8080/",
          "height": 295
        },
        "id": "oUpIOLlcpmA6",
        "outputId": "79b64e1b-6e79-4aa5-91e1-b1a4326a77b4"
      },
      "source": [
        "plt.figure()\n",
        "plt.plot(hist.history[\"loss\"], label=\"train_loss\")\n",
        "plt.plot(hist.history[\"val_loss\"], label=\"val_loss\")\n",
        "plt.plot(hist.history[\"accuracy\"], label=\"train_acc\")\n",
        "plt.plot(hist.history[\"val_accuracy\"], label=\"val_acc\")\n",
        "plt.title(\"Training Loss and Accuracy\")\n",
        "plt.xlabel(\"Epoch\")\n",
        "plt.ylabel(\"Loss/Accuracy\")\n",
        "plt.legend()\n",
        "plt.show()\n"
      ],
      "execution_count": 14,
      "outputs": [
        {
          "output_type": "display_data",
          "data": {
            "image/png": "[encoded data removed]",
            "text/plain": [
              "<Figure size 432x288 with 1 Axes>"
            ]
          },
          "metadata": {
            "tags": [],
            "needs_background": "light"
          }
        }
      ]
    },
    {
      "cell_type": "code",
      "metadata": {
        "id": "j_YKr_DJvPW5",
        "colab": {
          "base_uri": "https://localhost:8080/"
        },
        "outputId": "e26b2658-09cc-4f03-abc6-c3d082759504"
      },
      "source": [
        "score = model.evaluate(x_test, y_test, verbose=1)\n",
        "print(\"Test loss:\", score[0])\n",
        "print(\"Test accuracy:\", score[1])\n"
      ],
      "execution_count": 15,
      "outputs": [
        {
          "output_type": "stream",
          "text": [
            "313/313 [==============================] - 1s 3ms/step - loss: 0.6592 - accuracy: 0.4940\n",
            "Test loss: 0.6592127680778503\n",
            "Test accuracy: 0.49399998784065247\n"
          ],
          "name": "stdout"
        }
      ]
    },
    {
      "cell_type": "code",
      "metadata": {
        "id": "QwqCy5IscPEo"
      },
      "source": [
        "# Adapted from: https://medium.com/@dtuk81/confusion-matrix-visualization-fc31e3f30fea\n",
        "def show_cm(cf_matrix):\n",
        "  group_names = ['True Neg', 'False Pos', 'False Neg', 'True Pos']\n",
        "  group_counts = [\"{0:0.0f}\".format(value) for value in\n",
        "                  cf_matrix.flatten()]\n",
        "  group_percentages = [\"{0:.2%}\".format(value) for value in\n",
        "                      cf_matrix.flatten()/np.sum(cf_matrix)]\n",
        "  labels = [f\"{v1}\\n{v2}\\n{v3}\" for v1, v2, v3 in\n",
        "            zip(group_names,group_counts,group_percentages)]\n",
        "  labels = np.asarray(labels).reshape(2,2)\n",
        "  sns.heatmap(cf_matrix, annot=labels, fmt='')\n",
        "  plt.xlabel('Predicted')\n",
        "  plt.ylabel('Actual')\n"
      ],
      "execution_count": 16,
      "outputs": []
    },
    {
      "cell_type": "code",
      "metadata": {
        "colab": {
          "base_uri": "https://localhost:8080/",
          "height": 281
        },
        "id": "yjLTRklUU58w",
        "outputId": "aa0da467-04aa-4841-df13-71e5dd5e7816"
      },
      "source": [
        "preds = model.predict(x_test, verbose=0)\n",
        "\n",
        "# Generate arg maxes for predictions\n",
        "y_pred = np.argmax(preds, axis=1)\n",
        "y_true = np.argmax(y_test, axis=1)\n",
        "cm = confusion_matrix(y_true, y_pred)\n",
        "show_cm(cm)\n"
      ],
      "execution_count": 17,
      "outputs": [
        {
          "output_type": "display_data",
          "data": {
            "image/png": "[encoded data removed]",
            "text/plain": [
              "<Figure size 432x288 with 2 Axes>"
            ]
          },
          "metadata": {
            "tags": [],
            "needs_background": "light"
          }
        }
      ]
    },
    {
      "cell_type": "code",
      "metadata": {
        "colab": {
          "base_uri": "https://localhost:8080/"
        },
        "id": "CS6lbmKdrfAo",
        "outputId": "242b41e2-8e85-4bb5-e15f-60e0b2178596"
      },
      "source": [
        "idx = 0\n",
        "model.predict(x_test[idx:idx+1], verbose=1)\n"
      ],
      "execution_count": 18,
      "outputs": [
        {
          "output_type": "stream",
          "text": [
            "1/1 [==============================] - 0s 25ms/step\n"
          ],
          "name": "stdout"
        },
        {
          "output_type": "execute_result",
          "data": {
            "text/plain": [
              "array([[0.5564543 , 0.44354567]], dtype=float32)"
            ]
          },
          "metadata": {
            "tags": []
          },
          "execution_count": 18
        }
      ]
    },
    {
      "cell_type": "code",
      "metadata": {
        "colab": {
          "base_uri": "https://localhost:8080/",
          "height": 281
        },
        "id": "4KvU-SbxsDsg",
        "outputId": "afc355c6-5feb-4974-a3ca-811a99de2872"
      },
      "source": [
        "plt.figure()\n",
        "plt.title(y_test[idx][1])\n",
        "plt.imshow(np.squeeze(x_test[idx]))\n",
        "plt.show()"
      ],
      "execution_count": 19,
      "outputs": [
        {
          "output_type": "display_data",
          "data": {
            "image/png": "[encoded data removed]",
            "text/plain": [
              "<Figure size 432x288 with 1 Axes>"
            ]
          },
          "metadata": {
            "tags": [],
            "needs_background": "light"
          }
        }
      ]
    },
    {
      "cell_type": "markdown",
      "metadata": {
        "id": "JKwv8TxQhrjJ"
      },
      "source": [
        "# Exemplar Model\n",
        "Create a layer with M nodes with the goal that each node is a \"detector\" that activates in a local region. We want:\n",
        "- no detectors to fire (predict 1) when the true label is 0\n",
        "- exactly one detector to fire when the true label is 1 (may be noisy)\n",
        "\n",
        "The first goal can be met by comparing summed prediction across the outputs to 0.\n",
        "\n",
        "The second goal can be met by either\n",
        "- taking the L1 norm across the predictions to encourage sparsity\n",
        "- taking the loss only on the highest valued output\n"
      ]
    },
    {
      "cell_type": "code",
      "metadata": {
        "id": "bq6d4VzMh6-P"
      },
      "source": [
        "num_exemplars = 2"
      ],
      "execution_count": 20,
      "outputs": []
    },
    {
      "cell_type": "code",
      "metadata": {
        "colab": {
          "base_uri": "https://localhost:8080/"
        },
        "id": "o7fdbqA3wYD5",
        "outputId": "e853110a-3180-4e14-ddf4-7ad6a7f66172"
      },
      "source": [
        "model = keras.Sequential(\n",
        "    [\n",
        "        keras.Input(shape=input_shape),\n",
        "        layers.Conv2D(32, kernel_size=(3, 3), activation=\"relu\"),\n",
        "        layers.MaxPooling2D(pool_size=(2, 2)),\n",
        "        layers.Conv2D(64, kernel_size=(3, 3), activation=\"relu\"),\n",
        "        layers.MaxPooling2D(pool_size=(2, 2)),\n",
        "        layers.Flatten(),\n",
        "        layers.Dropout(0.5),\n",
        "        layers.Dense(num_exemplars, activation=\"sigmoid\")\n",
        "    ]\n",
        ")\n",
        "\n",
        "model.summary()"
      ],
      "execution_count": 21,
      "outputs": [
        {
          "output_type": "stream",
          "text": [
            "Model: \"sequential_1\"\n",
            "_________________________________________________________________\n",
            "Layer (type)                 Output Shape              Param #   \n",
            "=================================================================\n",
            "conv2d_2 (Conv2D)            (None, 26, 26, 32)        320       \n",
            "_________________________________________________________________\n",
            "max_pooling2d_2 (MaxPooling2 (None, 13, 13, 32)        0         \n",
            "_________________________________________________________________\n",
            "conv2d_3 (Conv2D)            (None, 11, 11, 64)        18496     \n",
            "_________________________________________________________________\n",
            "max_pooling2d_3 (MaxPooling2 (None, 5, 5, 64)          0         \n",
            "_________________________________________________________________\n",
            "flatten_1 (Flatten)          (None, 1600)              0         \n",
            "_________________________________________________________________\n",
            "dropout_1 (Dropout)          (None, 1600)              0         \n",
            "_________________________________________________________________\n",
            "dense_1 (Dense)              (None, 2)                 3202      \n",
            "=================================================================\n",
            "Total params: 22,018\n",
            "Trainable params: 22,018\n",
            "Non-trainable params: 0\n",
            "_________________________________________________________________\n"
          ],
          "name": "stdout"
        }
      ]
    },
    {
      "cell_type": "markdown",
      "metadata": {
        "id": "Y5VSXD9mi9ER"
      },
      "source": [
        "## Define a custom loss class\n"
      ]
    },
    {
      "cell_type": "code",
      "metadata": {
        "id": "GRmlkfHmiQHJ"
      },
      "source": [
        "class CustomExemplarLoss(keras.losses.Loss):\n",
        "    def __init__(self, opt=1, name=\"custom_exemplar_loss\"):\n",
        "        super().__init__(name=name)\n",
        "        self.opt = opt # Just a placeholder at the moment\n",
        "\n",
        "    def call(self, y_true, y_pred):\n",
        "        alpha_0 = 1.0\n",
        "        alpha_1 = 1.0\n",
        "        alpha_2 = 1.0\n",
        "\n",
        "        # mse = tf.math.reduce_mean(tf.square(y_true - y_pred))\n",
        "        # reg = tf.math.reduce_mean(tf.square(0.5 - y_pred))\n",
        "        # return mse + reg * self.regularization_factor\n",
        "\n",
        "        # y_true should be 1 number (0 or 1)\n",
        "        # y_pred should be N numbers (predictions)\n",
        "        # print('y_true:', y_true.shape)\n",
        "        # print('y_pred:', y_pred.shape)\n",
        "\n",
        "        # Find the difference of each prediction from gt\n",
        "        # with any luck, tf will auto expand y_true\n",
        "        diff = tf.abs(y_true - y_pred)\n",
        "\n",
        "        # Find the min difference along the last axis (columns)\n",
        "        loss = tf.math.reduce_min(diff, axis=-1)\n",
        "\n",
        "        # Encourage sparsity:\n",
        "        #   when true is 0, preds are all 0\n",
        "        #   when true is 1, one pred is 1\n",
        "        loss_s = tf.math.reduce_sum(diff, axis=-1)\n",
        "\n",
        "        reg = tf.math.reduce_sum(tf.square(0 - y_pred), axis=-1)\n",
        "\n",
        "        return alpha_0 * loss \\\n",
        "             + alpha_1 * loss_s \\\n",
        "             + alpha_2 * reg\n"
      ],
      "execution_count": 58,
      "outputs": []
    },
    {
      "cell_type": "code",
      "metadata": {
        "colab": {
          "base_uri": "https://localhost:8080/"
        },
        "id": "JMC3Upo4oSGu",
        "outputId": "dacec0b8-1da8-4896-85e1-1686b5c6f126"
      },
      "source": [
        "model.compile(optimizer=keras.optimizers.Adam(), loss=CustomExemplarLoss(), metrics=[\"accuracy\"])\n",
        "batch_size = 128\n",
        "epochs = 1\n",
        "\n",
        "model.fit(x_train, y_train[:,1], batch_size=batch_size, epochs=epochs, validation_split=0.1)\n"
      ],
      "execution_count": 59,
      "outputs": [
        {
          "output_type": "stream",
          "text": [
            "422/422 [==============================] - 3s 5ms/step - loss: 1.6098 - accuracy: 0.5557 - val_loss: 1.4904 - val_accuracy: 0.5575\n"
          ],
          "name": "stdout"
        },
        {
          "output_type": "execute_result",
          "data": {
            "text/plain": [
              "<tensorflow.python.keras.callbacks.History at 0x7f4e3cb0b0f0>"
            ]
          },
          "metadata": {
            "tags": []
          },
          "execution_count": 59
        }
      ]
    },
    {
      "cell_type": "markdown",
      "metadata": {
        "id": "tXIQGY5LjNGC"
      },
      "source": [
        "## TODO: fix this hack\n",
        "In the current version, the output is \"exemplars\" rather than actual predictions. The exemplar loss encourages a single output to be 1 when the positive class is predicted and otherwise all 0's."
      ]
    },
    {
      "cell_type": "code",
      "metadata": {
        "id": "nWbbamCFKHh4",
        "colab": {
          "base_uri": "https://localhost:8080/",
          "height": 296
        },
        "outputId": "d357c6cc-77d6-473e-c942-2001042914a1"
      },
      "source": [
        "preds = model.predict(x_test, verbose=0)\n",
        "preds = np.max(preds, axis=1)\n",
        "y_pred = np.where(preds <= 0.5, 0, 1)\n",
        "\n",
        "# Generate arg maxes for predictions\n",
        "y_true = np.argmax(y_test, axis=1)\n",
        "cm = confusion_matrix(y_true, y_pred)\n",
        "show_cm(cm)\n",
        "print('Accuracy = {:.2f}%'.format(100*np.sum(np.diag(cm))/np.sum(cm)))"
      ],
      "execution_count": 60,
      "outputs": [
        {
          "output_type": "stream",
          "text": [
            "Accuracy = 99.22%\n"
          ],
          "name": "stdout"
        },
        {
          "output_type": "display_data",
          "data": {
            "image/png": "[encoded data removed]",
            "text/plain": [
              "<Figure size 432x288 with 2 Axes>"
            ]
          },
          "metadata": {
            "tags": [],
            "needs_background": "light"
          }
        }
      ]
    },
    {
      "cell_type": "markdown",
      "metadata": {
        "id": "L0ioACNwsuhL"
      },
      "source": [
        "## Show some results\n",
        "Ideally, outputs are all close to zero when true label is 0, and one output is close to 1 when true label is 1.\n"
      ]
    },
    {
      "cell_type": "code",
      "metadata": {
        "colab": {
          "base_uri": "https://localhost:8080/",
          "height": 539
        },
        "id": "DyQOTSE8stk9",
        "outputId": "66f0d622-7e0f-4fa5-dbf4-f4cad675fe45"
      },
      "source": [
        "num_rows = 3\n",
        "num_cols = 5\n",
        "\n",
        "use_train = True\n",
        "\n",
        "if use_train:\n",
        "  y_split = y_train\n",
        "  x_split = x_train\n",
        "else:\n",
        "  y_split = y_test\n",
        "  x_split = x_test\n",
        "\n",
        "fig, ax = plt.subplots(num_rows, num_cols, sharex='col', sharey='row')\n",
        "for i in range(num_rows):\n",
        "    for j in range(num_cols):\n",
        "        idx = i*num_cols + j\n",
        "        ax[i, j].set_title(y_split[idx][1])\n",
        "        ax[i, j].imshow(np.squeeze(x_split[idx]))\n",
        "\n",
        "fig, ax = plt.subplots(num_rows, num_cols, sharex='col', sharey='row')\n",
        "for i in range(num_rows):\n",
        "    for j in range(num_cols):\n",
        "        idx = i*num_cols + j\n",
        "        ax[i, j].set_title(y_split[idx][1])\n",
        "        # run example through the model to get predictions\n",
        "        preds = model.predict(x_split[idx:idx+1])[0]\n",
        "        bins = np.arange(len(preds))\n",
        "        ax[i, j].bar(bins, preds)\n",
        "\n",
        "plt.show()\n",
        "\n",
        "\n"
      ],
      "execution_count": 61,
      "outputs": [
        {
          "output_type": "display_data",
          "data": {
            "image/png": "[encoded data removed]",
            "text/plain": [
              "<Figure size 432x288 with 15 Axes>"
            ]
          },
          "metadata": {
            "tags": [],
            "needs_background": "light"
          }
        },
        {
          "output_type": "display_data",
          "data": {
            "image/png": "[encoded data removed]",
            "text/plain": [
              "<Figure size 432x288 with 15 Axes>"
            ]
          },
          "metadata": {
            "tags": [],
            "needs_background": "light"
          }
        }
      ]
    },
    {
      "cell_type": "markdown",
      "metadata": {
        "id": "4su-pAkdYvQJ"
      },
      "source": [
        "## TODO: save/load models"
      ]
    },
    {
      "cell_type": "code",
      "metadata": {
        "colab": {
          "base_uri": "https://localhost:8080/"
        },
        "id": "DCZxl7H0YyjQ",
        "outputId": "7cf656cb-116d-4397-8192-217fa742a2d1"
      },
      "source": [
        "from tensorflow.keras.models import save_model, load_model\n",
        "# Save the model\n",
        "filepath = './saved_model'\n",
        "save_model(model, filepath)"
      ],
      "execution_count": 26,
      "outputs": [
        {
          "output_type": "stream",
          "text": [
            "INFO:tensorflow:Assets written to: ./saved_model/assets\n"
          ],
          "name": "stdout"
        }
      ]
    },
    {
      "cell_type": "code",
      "metadata": {
        "id": "Jr1fbV3MY7e6"
      },
      "source": [
        "# Load the model\n",
        "#model = load_model(filepath, compile = True)\n"
      ],
      "execution_count": 27,
      "outputs": []
    },
    {
      "cell_type": "code",
      "metadata": {
        "id": "tPZiWr6_ZXti"
      },
      "source": [
        ""
      ],
      "execution_count": 27,
      "outputs": []
    }
  ]
}